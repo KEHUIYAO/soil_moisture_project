{
 "cells": [
  {
   "cell_type": "code",
   "execution_count": 1,
   "id": "turned-great",
   "metadata": {},
   "outputs": [],
   "source": [
    "import pandas as pd\n",
    "import numpy as np"
   ]
  },
  {
   "cell_type": "code",
   "execution_count": 2,
   "id": "local-lingerie",
   "metadata": {},
   "outputs": [
    {
     "name": "stderr",
     "output_type": "stream",
     "text": [
      "/Users/kehuiyao/Desktop/soil moisture/venv/lib/python3.7/site-packages/IPython/core/interactiveshell.py:3156: DtypeWarning: Columns (1) have mixed types.Specify dtype option on import or set low_memory=False.\n",
      "  interactivity=interactivity, compiler=compiler, result=result)\n"
     ]
    }
   ],
   "source": [
    "data = pd.read_csv(\"../../SMAP_Climate_In_Situ.csv\")\n",
    "data = data.iloc[:946080,]"
   ]
  },
  {
   "cell_type": "code",
   "execution_count": 3,
   "id": "coated-rainbow",
   "metadata": {},
   "outputs": [
    {
     "data": {
      "text/html": [
       "<div>\n",
       "<style scoped>\n",
       "    .dataframe tbody tr th:only-of-type {\n",
       "        vertical-align: middle;\n",
       "    }\n",
       "\n",
       "    .dataframe tbody tr th {\n",
       "        vertical-align: top;\n",
       "    }\n",
       "\n",
       "    .dataframe thead th {\n",
       "        text-align: right;\n",
       "    }\n",
       "</style>\n",
       "<table border=\"1\" class=\"dataframe\">\n",
       "  <thead>\n",
       "    <tr style=\"text-align: right;\">\n",
       "      <th></th>\n",
       "      <th>Type</th>\n",
       "      <th>POINTID</th>\n",
       "      <th>x</th>\n",
       "      <th>y</th>\n",
       "      <th>Date</th>\n",
       "      <th>prcp</th>\n",
       "      <th>srad</th>\n",
       "      <th>tmax</th>\n",
       "      <th>tmin</th>\n",
       "      <th>vp</th>\n",
       "      <th>...</th>\n",
       "      <th>In_situ</th>\n",
       "      <th>elevation</th>\n",
       "      <th>slope</th>\n",
       "      <th>aspect</th>\n",
       "      <th>hillshade</th>\n",
       "      <th>clay</th>\n",
       "      <th>sand</th>\n",
       "      <th>bd</th>\n",
       "      <th>soc</th>\n",
       "      <th>LC</th>\n",
       "    </tr>\n",
       "  </thead>\n",
       "  <tbody>\n",
       "    <tr>\n",
       "      <th>0</th>\n",
       "      <td>SMAP_grid</td>\n",
       "      <td>1</td>\n",
       "      <td>-9548038.561</td>\n",
       "      <td>3.710801e+06</td>\n",
       "      <td>20160101</td>\n",
       "      <td>0.0</td>\n",
       "      <td>147.199997</td>\n",
       "      <td>7.5</td>\n",
       "      <td>1.5</td>\n",
       "      <td>680.0</td>\n",
       "      <td>...</td>\n",
       "      <td>NaN</td>\n",
       "      <td>547.0</td>\n",
       "      <td>1.0</td>\n",
       "      <td>327.0</td>\n",
       "      <td>182.0</td>\n",
       "      <td>27.0</td>\n",
       "      <td>37.0</td>\n",
       "      <td>151.0</td>\n",
       "      <td>5.0</td>\n",
       "      <td>52.0</td>\n",
       "    </tr>\n",
       "    <tr>\n",
       "      <th>1</th>\n",
       "      <td>SMAP_grid</td>\n",
       "      <td>1</td>\n",
       "      <td>-9548038.561</td>\n",
       "      <td>3.710801e+06</td>\n",
       "      <td>20160102</td>\n",
       "      <td>2.0</td>\n",
       "      <td>115.199997</td>\n",
       "      <td>7.0</td>\n",
       "      <td>2.5</td>\n",
       "      <td>720.0</td>\n",
       "      <td>...</td>\n",
       "      <td>NaN</td>\n",
       "      <td>547.0</td>\n",
       "      <td>1.0</td>\n",
       "      <td>327.0</td>\n",
       "      <td>182.0</td>\n",
       "      <td>27.0</td>\n",
       "      <td>37.0</td>\n",
       "      <td>151.0</td>\n",
       "      <td>5.0</td>\n",
       "      <td>52.0</td>\n",
       "    </tr>\n",
       "    <tr>\n",
       "      <th>2</th>\n",
       "      <td>SMAP_grid</td>\n",
       "      <td>1</td>\n",
       "      <td>-9548038.561</td>\n",
       "      <td>3.710801e+06</td>\n",
       "      <td>20160103</td>\n",
       "      <td>7.0</td>\n",
       "      <td>137.600006</td>\n",
       "      <td>9.0</td>\n",
       "      <td>1.5</td>\n",
       "      <td>680.0</td>\n",
       "      <td>...</td>\n",
       "      <td>NaN</td>\n",
       "      <td>547.0</td>\n",
       "      <td>1.0</td>\n",
       "      <td>327.0</td>\n",
       "      <td>182.0</td>\n",
       "      <td>27.0</td>\n",
       "      <td>37.0</td>\n",
       "      <td>151.0</td>\n",
       "      <td>5.0</td>\n",
       "      <td>52.0</td>\n",
       "    </tr>\n",
       "    <tr>\n",
       "      <th>3</th>\n",
       "      <td>SMAP_grid</td>\n",
       "      <td>1</td>\n",
       "      <td>-9548038.561</td>\n",
       "      <td>3.710801e+06</td>\n",
       "      <td>20160104</td>\n",
       "      <td>0.0</td>\n",
       "      <td>310.399994</td>\n",
       "      <td>12.5</td>\n",
       "      <td>-2.5</td>\n",
       "      <td>520.0</td>\n",
       "      <td>...</td>\n",
       "      <td>NaN</td>\n",
       "      <td>547.0</td>\n",
       "      <td>1.0</td>\n",
       "      <td>327.0</td>\n",
       "      <td>182.0</td>\n",
       "      <td>27.0</td>\n",
       "      <td>37.0</td>\n",
       "      <td>151.0</td>\n",
       "      <td>5.0</td>\n",
       "      <td>52.0</td>\n",
       "    </tr>\n",
       "    <tr>\n",
       "      <th>4</th>\n",
       "      <td>SMAP_grid</td>\n",
       "      <td>1</td>\n",
       "      <td>-9548038.561</td>\n",
       "      <td>3.710801e+06</td>\n",
       "      <td>20160105</td>\n",
       "      <td>0.0</td>\n",
       "      <td>300.799988</td>\n",
       "      <td>12.5</td>\n",
       "      <td>-1.5</td>\n",
       "      <td>560.0</td>\n",
       "      <td>...</td>\n",
       "      <td>NaN</td>\n",
       "      <td>547.0</td>\n",
       "      <td>1.0</td>\n",
       "      <td>327.0</td>\n",
       "      <td>182.0</td>\n",
       "      <td>27.0</td>\n",
       "      <td>37.0</td>\n",
       "      <td>151.0</td>\n",
       "      <td>5.0</td>\n",
       "      <td>52.0</td>\n",
       "    </tr>\n",
       "  </tbody>\n",
       "</table>\n",
       "<p>5 rows × 22 columns</p>\n",
       "</div>"
      ],
      "text/plain": [
       "        Type POINTID            x             y      Date  prcp        srad  \\\n",
       "0  SMAP_grid       1 -9548038.561  3.710801e+06  20160101   0.0  147.199997   \n",
       "1  SMAP_grid       1 -9548038.561  3.710801e+06  20160102   2.0  115.199997   \n",
       "2  SMAP_grid       1 -9548038.561  3.710801e+06  20160103   7.0  137.600006   \n",
       "3  SMAP_grid       1 -9548038.561  3.710801e+06  20160104   0.0  310.399994   \n",
       "4  SMAP_grid       1 -9548038.561  3.710801e+06  20160105   0.0  300.799988   \n",
       "\n",
       "   tmax  tmin     vp  ...  In_situ  elevation  slope  aspect  hillshade  clay  \\\n",
       "0   7.5   1.5  680.0  ...      NaN      547.0    1.0   327.0      182.0  27.0   \n",
       "1   7.0   2.5  720.0  ...      NaN      547.0    1.0   327.0      182.0  27.0   \n",
       "2   9.0   1.5  680.0  ...      NaN      547.0    1.0   327.0      182.0  27.0   \n",
       "3  12.5  -2.5  520.0  ...      NaN      547.0    1.0   327.0      182.0  27.0   \n",
       "4  12.5  -1.5  560.0  ...      NaN      547.0    1.0   327.0      182.0  27.0   \n",
       "\n",
       "   sand     bd  soc    LC  \n",
       "0  37.0  151.0  5.0  52.0  \n",
       "1  37.0  151.0  5.0  52.0  \n",
       "2  37.0  151.0  5.0  52.0  \n",
       "3  37.0  151.0  5.0  52.0  \n",
       "4  37.0  151.0  5.0  52.0  \n",
       "\n",
       "[5 rows x 22 columns]"
      ]
     },
     "execution_count": 3,
     "metadata": {},
     "output_type": "execute_result"
    }
   ],
   "source": [
    "data.head(5)"
   ]
  },
  {
   "cell_type": "code",
   "execution_count": 4,
   "id": "smart-rebecca",
   "metadata": {},
   "outputs": [
    {
     "data": {
      "text/plain": [
       "1297"
      ]
     },
     "execution_count": 4,
     "metadata": {},
     "output_type": "execute_result"
    }
   ],
   "source": [
    "len(data.POINTID.unique())"
   ]
  },
  {
   "cell_type": "code",
   "execution_count": 5,
   "id": "alone-spouse",
   "metadata": {},
   "outputs": [
    {
     "data": {
      "text/plain": [
       "730"
      ]
     },
     "execution_count": 5,
     "metadata": {},
     "output_type": "execute_result"
    }
   ],
   "source": [
    "len(data.Date.unique())"
   ]
  },
  {
   "cell_type": "code",
   "execution_count": 6,
   "id": "central-western",
   "metadata": {},
   "outputs": [
    {
     "data": {
      "text/plain": [
       "Type          object\n",
       "POINTID       object\n",
       "x            float64\n",
       "y            float64\n",
       "Date           int64\n",
       "prcp         float64\n",
       "srad         float64\n",
       "tmax         float64\n",
       "tmin         float64\n",
       "vp           float64\n",
       "SMAP_36km    float64\n",
       "SMAP_1km     float64\n",
       "In_situ      float64\n",
       "elevation    float64\n",
       "slope        float64\n",
       "aspect       float64\n",
       "hillshade    float64\n",
       "clay         float64\n",
       "sand         float64\n",
       "bd           float64\n",
       "soc          float64\n",
       "LC           float64\n",
       "dtype: object"
      ]
     },
     "execution_count": 6,
     "metadata": {},
     "output_type": "execute_result"
    }
   ],
   "source": [
    "data.dtypes"
   ]
  },
  {
   "cell_type": "code",
   "execution_count": 7,
   "id": "frozen-feedback",
   "metadata": {},
   "outputs": [],
   "source": [
    "data['formatted_date'] = pd.to_datetime(data.Date, format='%Y%m%d')"
   ]
  },
  {
   "cell_type": "code",
   "execution_count": 8,
   "id": "aboriginal-soldier",
   "metadata": {},
   "outputs": [
    {
     "name": "stderr",
     "output_type": "stream",
     "text": [
      "/Users/kehuiyao/Desktop/soil moisture/venv/lib/python3.7/site-packages/ipykernel_launcher.py:2: SettingWithCopyWarning: \n",
      "A value is trying to be set on a copy of a slice from a DataFrame\n",
      "\n",
      "See the caveats in the documentation: https://pandas.pydata.org/pandas-docs/stable/user_guide/indexing.html#returning-a-view-versus-a-copy\n",
      "  \n"
     ]
    },
    {
     "data": {
      "text/plain": [
       "0         0\n",
       "1         1\n",
       "2         0\n",
       "3         1\n",
       "4         1\n",
       "         ..\n",
       "946075    1\n",
       "946076    0\n",
       "946077    0\n",
       "946078    1\n",
       "946079    0\n",
       "Name: mask, Length: 946080, dtype: int64"
      ]
     },
     "execution_count": 8,
     "metadata": {},
     "output_type": "execute_result"
    }
   ],
   "source": [
    "data['mask'] = 1\n",
    "data['mask'][pd.isna(data.SMAP_36km)] = 0\n",
    "data['mask']"
   ]
  },
  {
   "cell_type": "code",
   "execution_count": 9,
   "id": "banned-ensemble",
   "metadata": {},
   "outputs": [],
   "source": [
    "data['month'] = data['formatted_date'].dt.month"
   ]
  },
  {
   "cell_type": "code",
   "execution_count": 10,
   "id": "false-kazakhstan",
   "metadata": {},
   "outputs": [
    {
     "data": {
      "text/plain": [
       "0          1\n",
       "1          1\n",
       "2          1\n",
       "3          1\n",
       "4          1\n",
       "          ..\n",
       "946075    12\n",
       "946076    12\n",
       "946077    12\n",
       "946078    12\n",
       "946079    12\n",
       "Name: month, Length: 946080, dtype: int64"
      ]
     },
     "execution_count": 10,
     "metadata": {},
     "output_type": "execute_result"
    }
   ],
   "source": [
    "data['month']"
   ]
  },
  {
   "cell_type": "code",
   "execution_count": 11,
   "id": "distinct-detection",
   "metadata": {},
   "outputs": [
    {
     "data": {
      "text/html": [
       "<div>\n",
       "<style scoped>\n",
       "    .dataframe tbody tr th:only-of-type {\n",
       "        vertical-align: middle;\n",
       "    }\n",
       "\n",
       "    .dataframe tbody tr th {\n",
       "        vertical-align: top;\n",
       "    }\n",
       "\n",
       "    .dataframe thead th {\n",
       "        text-align: right;\n",
       "    }\n",
       "</style>\n",
       "<table border=\"1\" class=\"dataframe\">\n",
       "  <thead>\n",
       "    <tr style=\"text-align: right;\">\n",
       "      <th></th>\n",
       "      <th>Type</th>\n",
       "      <th>POINTID</th>\n",
       "      <th>x</th>\n",
       "      <th>y</th>\n",
       "      <th>Date</th>\n",
       "      <th>prcp</th>\n",
       "      <th>srad</th>\n",
       "      <th>tmax</th>\n",
       "      <th>tmin</th>\n",
       "      <th>vp</th>\n",
       "      <th>...</th>\n",
       "      <th>aspect</th>\n",
       "      <th>hillshade</th>\n",
       "      <th>clay</th>\n",
       "      <th>sand</th>\n",
       "      <th>bd</th>\n",
       "      <th>soc</th>\n",
       "      <th>LC</th>\n",
       "      <th>formatted_date</th>\n",
       "      <th>mask</th>\n",
       "      <th>month</th>\n",
       "    </tr>\n",
       "  </thead>\n",
       "  <tbody>\n",
       "    <tr>\n",
       "      <th>946079</th>\n",
       "      <td>SMAP_grid</td>\n",
       "      <td>999</td>\n",
       "      <td>-9522038.561</td>\n",
       "      <td>3.683801e+06</td>\n",
       "      <td>20171231</td>\n",
       "      <td>0.0</td>\n",
       "      <td>281.600006</td>\n",
       "      <td>11.5</td>\n",
       "      <td>0.0</td>\n",
       "      <td>600.0</td>\n",
       "      <td>...</td>\n",
       "      <td>23.0</td>\n",
       "      <td>180.0</td>\n",
       "      <td>27.0</td>\n",
       "      <td>38.0</td>\n",
       "      <td>160.0</td>\n",
       "      <td>4.0</td>\n",
       "      <td>52.0</td>\n",
       "      <td>2017-12-31</td>\n",
       "      <td>0</td>\n",
       "      <td>12</td>\n",
       "    </tr>\n",
       "  </tbody>\n",
       "</table>\n",
       "<p>1 rows × 25 columns</p>\n",
       "</div>"
      ],
      "text/plain": [
       "             Type POINTID            x             y      Date  prcp  \\\n",
       "946079  SMAP_grid     999 -9522038.561  3.683801e+06  20171231   0.0   \n",
       "\n",
       "              srad  tmax  tmin     vp  ...  aspect  hillshade  clay  sand  \\\n",
       "946079  281.600006  11.5   0.0  600.0  ...    23.0      180.0  27.0  38.0   \n",
       "\n",
       "           bd  soc    LC  formatted_date  mask  month  \n",
       "946079  160.0  4.0  52.0      2017-12-31     0     12  \n",
       "\n",
       "[1 rows x 25 columns]"
      ]
     },
     "execution_count": 11,
     "metadata": {},
     "output_type": "execute_result"
    }
   ],
   "source": [
    "data.iloc[946079:946080,:]"
   ]
  },
  {
   "cell_type": "code",
   "execution_count": 12,
   "id": "beginning-tackle",
   "metadata": {},
   "outputs": [
    {
     "name": "stderr",
     "output_type": "stream",
     "text": [
      "/Users/kehuiyao/Desktop/soil moisture/venv/lib/python3.7/site-packages/ipykernel_launcher.py:1: SettingWithCopyWarning: \n",
      "A value is trying to be set on a copy of a slice from a DataFrame\n",
      "\n",
      "See the caveats in the documentation: https://pandas.pydata.org/pandas-docs/stable/user_guide/indexing.html#returning-a-view-versus-a-copy\n",
      "  \"\"\"Entry point for launching an IPython kernel.\n"
     ]
    },
    {
     "data": {
      "text/plain": [
       "0         0.000000\n",
       "1         0.234458\n",
       "2         0.000000\n",
       "3         0.255353\n",
       "4         0.249691\n",
       "            ...   \n",
       "946075    0.187667\n",
       "946076    0.000000\n",
       "946077    0.000000\n",
       "946078    0.196625\n",
       "946079    0.000000\n",
       "Name: SMAP_36km, Length: 946080, dtype: float64"
      ]
     },
     "execution_count": 12,
     "metadata": {},
     "output_type": "execute_result"
    }
   ],
   "source": [
    "data['SMAP_36km'][pd.isna(data['SMAP_36km'])] = 0\n",
    "data['SMAP_36km']\n",
    "    "
   ]
  },
  {
   "cell_type": "code",
   "execution_count": 13,
   "id": "moral-morocco",
   "metadata": {},
   "outputs": [
    {
     "data": {
      "text/plain": [
       "15556"
      ]
     },
     "execution_count": 13,
     "metadata": {},
     "output_type": "execute_result"
    }
   ],
   "source": [
    "N = len(data[~data.duplicated(subset = ['POINTID','month'])])\n",
    "N"
   ]
  },
  {
   "cell_type": "code",
   "execution_count": 14,
   "id": "material-association",
   "metadata": {},
   "outputs": [],
   "source": [
    "data['index'] = list(range(data.shape[0]))\n",
    "ind_list = data['index'][~data.duplicated(subset = ['POINTID','month'])]\n",
    "ind_list = list(ind_list) + [data.shape[0]]"
   ]
  },
  {
   "cell_type": "code",
   "execution_count": 15,
   "id": "grand-algebra",
   "metadata": {},
   "outputs": [
    {
     "data": {
      "text/plain": [
       "[945654, 945684]"
      ]
     },
     "execution_count": 15,
     "metadata": {},
     "output_type": "execute_result"
    }
   ],
   "source": [
    "ind_list[-3:-1]"
   ]
  },
  {
   "cell_type": "code",
   "execution_count": 16,
   "id": "statutory-language",
   "metadata": {},
   "outputs": [
    {
     "data": {
      "text/html": [
       "<div>\n",
       "<style scoped>\n",
       "    .dataframe tbody tr th:only-of-type {\n",
       "        vertical-align: middle;\n",
       "    }\n",
       "\n",
       "    .dataframe tbody tr th {\n",
       "        vertical-align: top;\n",
       "    }\n",
       "\n",
       "    .dataframe thead th {\n",
       "        text-align: right;\n",
       "    }\n",
       "</style>\n",
       "<table border=\"1\" class=\"dataframe\">\n",
       "  <thead>\n",
       "    <tr style=\"text-align: right;\">\n",
       "      <th></th>\n",
       "      <th>x</th>\n",
       "      <th>y</th>\n",
       "    </tr>\n",
       "  </thead>\n",
       "  <tbody>\n",
       "    <tr>\n",
       "      <th>0</th>\n",
       "      <td>-9548038.561</td>\n",
       "      <td>3.710801e+06</td>\n",
       "    </tr>\n",
       "    <tr>\n",
       "      <th>1</th>\n",
       "      <td>-9548038.561</td>\n",
       "      <td>3.710801e+06</td>\n",
       "    </tr>\n",
       "    <tr>\n",
       "      <th>2</th>\n",
       "      <td>-9548038.561</td>\n",
       "      <td>3.710801e+06</td>\n",
       "    </tr>\n",
       "    <tr>\n",
       "      <th>3</th>\n",
       "      <td>-9548038.561</td>\n",
       "      <td>3.710801e+06</td>\n",
       "    </tr>\n",
       "    <tr>\n",
       "      <th>4</th>\n",
       "      <td>-9548038.561</td>\n",
       "      <td>3.710801e+06</td>\n",
       "    </tr>\n",
       "    <tr>\n",
       "      <th>...</th>\n",
       "      <td>...</td>\n",
       "      <td>...</td>\n",
       "    </tr>\n",
       "    <tr>\n",
       "      <th>946075</th>\n",
       "      <td>-9522038.561</td>\n",
       "      <td>3.683801e+06</td>\n",
       "    </tr>\n",
       "    <tr>\n",
       "      <th>946076</th>\n",
       "      <td>-9522038.561</td>\n",
       "      <td>3.683801e+06</td>\n",
       "    </tr>\n",
       "    <tr>\n",
       "      <th>946077</th>\n",
       "      <td>-9522038.561</td>\n",
       "      <td>3.683801e+06</td>\n",
       "    </tr>\n",
       "    <tr>\n",
       "      <th>946078</th>\n",
       "      <td>-9522038.561</td>\n",
       "      <td>3.683801e+06</td>\n",
       "    </tr>\n",
       "    <tr>\n",
       "      <th>946079</th>\n",
       "      <td>-9522038.561</td>\n",
       "      <td>3.683801e+06</td>\n",
       "    </tr>\n",
       "  </tbody>\n",
       "</table>\n",
       "<p>946080 rows × 2 columns</p>\n",
       "</div>"
      ],
      "text/plain": [
       "                  x             y\n",
       "0      -9548038.561  3.710801e+06\n",
       "1      -9548038.561  3.710801e+06\n",
       "2      -9548038.561  3.710801e+06\n",
       "3      -9548038.561  3.710801e+06\n",
       "4      -9548038.561  3.710801e+06\n",
       "...             ...           ...\n",
       "946075 -9522038.561  3.683801e+06\n",
       "946076 -9522038.561  3.683801e+06\n",
       "946077 -9522038.561  3.683801e+06\n",
       "946078 -9522038.561  3.683801e+06\n",
       "946079 -9522038.561  3.683801e+06\n",
       "\n",
       "[946080 rows x 2 columns]"
      ]
     },
     "execution_count": 16,
     "metadata": {},
     "output_type": "execute_result"
    }
   ],
   "source": [
    "data[['x','y']]"
   ]
  },
  {
   "cell_type": "code",
   "execution_count": 17,
   "id": "assigned-traveler",
   "metadata": {},
   "outputs": [
    {
     "data": {
      "text/plain": [
       "array([547., 535., 431., 450., 451., 455., 449., 448., 453., 439., 516.,\n",
       "       400., 511., 504., 503., 499., 497., 495., 493., 492., 489., 486.,\n",
       "       373., 485., 480., 483., 491., 481., 476., 469., 368., 464., 462.,\n",
       "       460., 457., 459., 461., 374., 471., 441., 512., 508., 513., 395.,\n",
       "       506., 505., 501., 396., 534., 519., 510., 478., 479., 466., 465.,\n",
       "       383., 468., 463., 477., 470., 482., 397., 530., 532., 527., 528.,\n",
       "       600., 498., 507., 525., 533., 548., 612., 475., 488., 473., 632.,\n",
       "       494., 515., 538., 635., 544., 555., 554., 561., 552., 629., 560.,\n",
       "       549., 524., 472., 627., 496., 490., 509., 621., 458., 539., 526.,\n",
       "       576., 591., 587., 582., 543., 562., 574., 571., 541., 611., 500.,\n",
       "       484., 520., 583., 559., 542., 596., 594., 579., 536., 545., 565.,\n",
       "       577., 589., 586., 573., 550., 537., 531., 588., 568., 595., 581.,\n",
       "       518., 564., 593., 572., 578., 569., 557., 551., 521., 522., 546.,\n",
       "       523., 540., 403., 404., 411., 402., 417., 633., 636., 628., 606.,\n",
       "       601., 592., 517., 529., 553., 502., 418., 407., 428., 416., 640.,\n",
       "       613., 610., 615., 558., 452., 456., 434., 641., 638., 624., 625.,\n",
       "       614., 607., 604., 590., 570., 447., 437., 656., 637., 643., 605.,\n",
       "       620., 626., 603., 584., 444., 585., 566., 467., 487., 644., 648.,\n",
       "       647., 619., 599., 556., 514., 366., 645., 651., 650., 354., 639.,\n",
       "       630., 598., 609., 361., 359., 371., 657., 646., 655., 658., 649.,\n",
       "       622., 567., 642., 616., 617., 580., 634., 575., 597., 602., 623.,\n",
       "       563., 391., 375., 377., 367., 384., 474., 445., 442., 438., 433.,\n",
       "       446., 436.])"
      ]
     },
     "execution_count": 17,
     "metadata": {},
     "output_type": "execute_result"
    }
   ],
   "source": [
    "data.elevation.unique()"
   ]
  },
  {
   "cell_type": "code",
   "execution_count": 18,
   "id": "intended-track",
   "metadata": {},
   "outputs": [
    {
     "data": {
      "text/plain": [
       "array([1., 2., 0., 3., 5., 4.])"
      ]
     },
     "execution_count": 18,
     "metadata": {},
     "output_type": "execute_result"
    }
   ],
   "source": [
    "data.slope.unique()"
   ]
  },
  {
   "cell_type": "code",
   "execution_count": 19,
   "id": "ecological-creation",
   "metadata": {},
   "outputs": [
    {
     "data": {
      "text/plain": [
       "array([327.,   9.,  99.,   0., 333.,  29.,  23.,   3., 341., 351.,  69.,\n",
       "       135., 102., 113.,  54.,  49.,  45.,  60., 100.,  18.,  43.,  51.,\n",
       "       342., 354.,  11.,  19.,  14., 356.,  27., 334.,  34.,   4., 345.,\n",
       "       344., 305., 358., 347., 355.,  55.,   6.,  17.,  16., 319.,  25.,\n",
       "        44., 331.,  22., 348.,  33.,  53.,  39.,  47.,  36., 340., 313.,\n",
       "       339.,  89., 328., 324.,  63., 317.,  15., 353.,   2.,  77.,  13.,\n",
       "       337., 343., 350., 150., 127., 114., 346.,  98.,  82., 105.,  12.,\n",
       "        21., 280., 291.,  81., 117., 106.,  78., 326., 263., 116.,   1.,\n",
       "        48., 332., 163.,  92., 122., 137., 109., 336., 164.,   5.,  32.,\n",
       "       296., 110., 154., 119., 293., 255.,  64.,  80., 325., 338.,  24.,\n",
       "        88.,  94.,  97., 349., 294., 335.,   7.,  95.,  67.,  38.,  70.,\n",
       "       271., 264.,  84., 111.,  83.,  76., 329.,  87., 132., 152.,  90.,\n",
       "        28., 244., 275., 357.,  31., 298., 153., 303., 225., 193., 301.,\n",
       "       318., 118., 147., 138., 180., 126.,  46., 250., 249., 256., 134.,\n",
       "        42., 323.,  96., 257., 242., 254., 314., 156., 129., 279.,  75.,\n",
       "       241., 247., 286.,  57.,  91., 185.,  71., 320., 290.,  10., 278.,\n",
       "       125., 121., 131., 145., 175., 146., 224., 306., 282., 287., 251.,\n",
       "        59., 312., 104.,  56., 316.,  58., 216., 253.,  26.,  30.,  61.,\n",
       "       101.,   8.,  20.,  73.,  37., 136., 159., 166., 142.,  35.,  62.,\n",
       "       103., 288.,  93., 167., 176., 188., 219., 208., 352., 300., 311.,\n",
       "       112., 268., 124., 107.,  40.,  41., 207., 184., 321., 330., 108.,\n",
       "        50., 169., 265., 234., 273., 203., 210.,  85., 128., 308.,  74.,\n",
       "        65.,  52., 173., 199., 172., 157., 133., 165., 229., 143., 191.,\n",
       "       190., 196., 171.,  68., 115., 222., 120., 220., 195., 209., 174.,\n",
       "       181., 215., 236.,  79., 160.,  86., 141., 194.,  72., 183., 168.,\n",
       "       283., 187., 205., 170., 192., 259., 237., 226., 212., 289., 223.,\n",
       "       200., 186., 202., 221., 189., 158., 218., 201., 178., 228., 149.,\n",
       "       233., 204., 177., 198., 307., 161., 155., 162., 235., 231., 248.,\n",
       "       238., 309.,  66., 295., 217., 206., 227., 182., 243., 214., 151.,\n",
       "       211., 123., 148., 140., 144., 304., 139.])"
      ]
     },
     "execution_count": 19,
     "metadata": {},
     "output_type": "execute_result"
    }
   ],
   "source": [
    "data.aspect.unique()"
   ]
  },
  {
   "cell_type": "code",
   "execution_count": 20,
   "id": "incoming-premium",
   "metadata": {},
   "outputs": [
    {
     "data": {
      "text/plain": [
       "array([182., 179., 174., 180., 181., 175., 183., 178., 177., 176., 184.,\n",
       "       185., 173., 172., 187., 186., 167., 170.])"
      ]
     },
     "execution_count": 20,
     "metadata": {},
     "output_type": "execute_result"
    }
   ],
   "source": [
    "data.hillshade.unique()"
   ]
  },
  {
   "cell_type": "code",
   "execution_count": 21,
   "id": "grave-parallel",
   "metadata": {},
   "outputs": [
    {
     "data": {
      "text/plain": [
       "array([27., 26., 28., 30., 29., 25., 23., 22., 31., 24., 32.])"
      ]
     },
     "execution_count": 21,
     "metadata": {},
     "output_type": "execute_result"
    }
   ],
   "source": [
    "data.clay.unique()\n"
   ]
  },
  {
   "cell_type": "code",
   "execution_count": 22,
   "id": "twenty-contest",
   "metadata": {},
   "outputs": [
    {
     "data": {
      "text/plain": [
       "array([37., 42., 51., 39., 40., 36., 38., 35., 53., 41., 46., 45., 43.,\n",
       "       44., 47., 49., 48., 50., 52., 55.])"
      ]
     },
     "execution_count": 22,
     "metadata": {},
     "output_type": "execute_result"
    }
   ],
   "source": [
    "data.sand.unique()"
   ]
  },
  {
   "cell_type": "code",
   "execution_count": 23,
   "id": "obvious-dayton",
   "metadata": {},
   "outputs": [
    {
     "data": {
      "text/plain": [
       "array([151., 149., 148., 158., 157., 160., 159., 154., 147., 153., 155.,\n",
       "       156., 150., 161., 152., 142., 144., 143., 145., 140., 141., 146.])"
      ]
     },
     "execution_count": 23,
     "metadata": {},
     "output_type": "execute_result"
    }
   ],
   "source": [
    "data.bd.unique()\n"
   ]
  },
  {
   "cell_type": "code",
   "execution_count": 24,
   "id": "passive-nevada",
   "metadata": {},
   "outputs": [
    {
     "data": {
      "text/plain": [
       "array([5., 4., 3., 2., 6.])"
      ]
     },
     "execution_count": 24,
     "metadata": {},
     "output_type": "execute_result"
    }
   ],
   "source": [
    "data.soc.unique()"
   ]
  },
  {
   "cell_type": "code",
   "execution_count": 25,
   "id": "decreased-greek",
   "metadata": {},
   "outputs": [
    {
     "data": {
      "text/plain": [
       "array([52., 21., 71., 81., 82., 42., 24.])"
      ]
     },
     "execution_count": 25,
     "metadata": {},
     "output_type": "execute_result"
    }
   ],
   "source": [
    "data.LC.unique()"
   ]
  },
  {
   "cell_type": "code",
   "execution_count": null,
   "id": "healthy-private",
   "metadata": {},
   "outputs": [],
   "source": []
  },
  {
   "cell_type": "code",
   "execution_count": null,
   "id": "proprietary-height",
   "metadata": {},
   "outputs": [],
   "source": []
  }
 ],
 "metadata": {
  "kernelspec": {
   "display_name": "Python 3",
   "language": "python",
   "name": "python3"
  },
  "language_info": {
   "codemirror_mode": {
    "name": "ipython",
    "version": 3
   },
   "file_extension": ".py",
   "mimetype": "text/x-python",
   "name": "python",
   "nbconvert_exporter": "python",
   "pygments_lexer": "ipython3",
   "version": "3.7.3"
  }
 },
 "nbformat": 4,
 "nbformat_minor": 5
}
